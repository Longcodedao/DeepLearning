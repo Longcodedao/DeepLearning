{
 "cells": [
  {
   "cell_type": "markdown",
   "metadata": {},
   "source": [
    "## **Running the LeNet-5 model by using the MNIST dataset**"
   ]
  },
  {
   "cell_type": "code",
   "execution_count": 8,
   "metadata": {},
   "outputs": [],
   "source": [
    "import numpy as np\n",
    "import tensorflow as tf\n",
    "from tensorflow import keras\n",
    "import matplotlib as mpl\n",
    "import matplotlib.pyplot as plt\n",
    "import os\n",
    "import sklearn"
   ]
  },
  {
   "cell_type": "code",
   "execution_count": 9,
   "metadata": {},
   "outputs": [],
   "source": [
    "ROOT_PATH = \".\"\n",
    "MODEL_PATH = os.path.join(ROOT_PATH, \"model_train\", \"Lenet-5\")\n",
    "os.makedirs(MODEL_PATH, exist_ok = True)"
   ]
  },
  {
   "cell_type": "markdown",
   "metadata": {},
   "source": [
    "Zero-Padding the size of image to 32x32 pixels."
   ]
  },
  {
   "cell_type": "code",
   "execution_count": 11,
   "metadata": {},
   "outputs": [],
   "source": [
    "(X_train, Y_train), (X_test, Y_test) = keras.datasets.mnist.load_data(path=\"mnist.npz\")\n",
    "\n",
    "X_train = X_train / 255 \n",
    "X_test = X_test / 255 \n",
    "\n",
    "# print(X_train.shape)\n",
    "# print(X_test.shape)\n",
    "X_train = tf.pad(X_train, ([0, 0],[2, 2], [2, 2]), mode ='CONSTANT', constant_values = 0, name = None)\n",
    "X_test = tf.pad(X_test, ([0, 0], [2, 2], [2, 2]), mode = 'CONSTANT', constant_values = 0, name = None)"
   ]
  },
  {
   "cell_type": "code",
   "execution_count": 13,
   "metadata": {},
   "outputs": [
    {
     "name": "stdout",
     "output_type": "stream",
     "text": [
      "12000\n",
      "48000\n"
     ]
    }
   ],
   "source": [
    "num_of_valid = int(X_train.shape[0] * 0.2)\n",
    "num_of_train = X_train.shape[0] - num_of_valid\n",
    "\n",
    "print(num_of_valid)\n",
    "print(num_of_train)"
   ]
  },
  {
   "cell_type": "markdown",
   "metadata": {},
   "source": [
    "Dividing the training dataset to 80/20 %. The new training dataset has 48000 elements and the new validation dataset has 12000 elements  "
   ]
  },
  {
   "cell_type": "code",
   "execution_count": 16,
   "metadata": {},
   "outputs": [
    {
     "name": "stdout",
     "output_type": "stream",
     "text": [
      "Shape of X train model is (48000, 32, 32)\n",
      "Shape of X valid model is (12000, 32, 32)\n",
      "\n",
      "Shape of Y train model is (48000,)\n",
      "Shape of Y valid model is (12000,)\n"
     ]
    }
   ],
   "source": [
    "X_train_model, X_valid_model = X_train[ : num_of_train], X_train[-num_of_valid : ]\n",
    "Y_train_model, Y_valid_model = Y_train[ : num_of_train], Y_train[-num_of_valid : ]\n",
    "\n",
    "print(f\"Shape of X train model is {X_train_model.shape}\")\n",
    "print(f\"Shape of X valid model is {X_valid_model.shape}\")\n",
    "print()\n",
    "print(f\"Shape of Y train model is {Y_train_model.shape}\")\n",
    "print(f\"Shape of Y valid model is {Y_valid_model.shape}\")"
   ]
  },
  {
   "cell_type": "markdown",
   "metadata": {},
   "source": [
    "Add new dimension to the dataset to get 4D-Tensor"
   ]
  },
  {
   "cell_type": "code",
   "execution_count": 17,
   "metadata": {},
   "outputs": [],
   "source": [
    "X_train_model = X_train_model[..., np.newaxis]\n",
    "X_valid_model = X_valid_model[..., np.newaxis]"
   ]
  },
  {
   "cell_type": "code",
   "execution_count": 18,
   "metadata": {},
   "outputs": [
    {
     "name": "stdout",
     "output_type": "stream",
     "text": [
      "(48000, 32, 32, 1) || (12000, 32, 32, 1)\n"
     ]
    }
   ],
   "source": [
    "print(f\"{X_train_model.shape} || {X_valid_model.shape}\")"
   ]
  },
  {
   "cell_type": "code",
   "execution_count": 19,
   "metadata": {},
   "outputs": [
    {
     "data": {
      "text/plain": [
       "TensorShape([10000, 32, 32, 1])"
      ]
     },
     "execution_count": 19,
     "metadata": {},
     "output_type": "execute_result"
    }
   ],
   "source": [
    "X_test_model = X_test[..., np.newaxis]\n",
    "X_test_model.shape"
   ]
  },
  {
   "cell_type": "markdown",
   "metadata": {},
   "source": [
    "Implementing the LeNet-5 Model (Classifying the digits numbers in MNIST dataset)"
   ]
  },
  {
   "cell_type": "code",
   "execution_count": 47,
   "metadata": {},
   "outputs": [],
   "source": [
    "models = keras.models.Sequential([\n",
    "    keras.layers.Conv2D(filters = 6, kernel_size = 5, input_shape = [32, 32, 1], activation = \"tanh\"),\n",
    "    keras.layers.AvgPool2D(pool_size = 2, strides = 2),\n",
    "    keras.layers.Conv2D(filters = 16, kernel_size = 5, activation = \"tanh\"),\n",
    "    keras.layers.AvgPool2D(pool_size = 2, strides = 2),\n",
    "    keras.layers.Conv2D(filters = 120, kernel_size = 5, activation = \"tanh\"),\n",
    "\n",
    "    keras.layers.Flatten(), \n",
    "    # keras.layers.Dense(120, activation = \"tanh\"),\n",
    "    keras.layers.Dense(84, activation = \"tanh\"),\n",
    "    # keras.layers.Dropout(0.2),\n",
    "    keras.layers.Dense(10, activation = \"softmax\")\n",
    "])"
   ]
  },
  {
   "cell_type": "code",
   "execution_count": 48,
   "metadata": {},
   "outputs": [
    {
     "name": "stdout",
     "output_type": "stream",
     "text": [
      "Model: \"sequential_10\"\n",
      "_________________________________________________________________\n",
      " Layer (type)                Output Shape              Param #   \n",
      "=================================================================\n",
      " conv2d_23 (Conv2D)          (None, 28, 28, 6)         156       \n",
      "                                                                 \n",
      " average_pooling2d_12 (Avera  (None, 14, 14, 6)        0         \n",
      " gePooling2D)                                                    \n",
      "                                                                 \n",
      " conv2d_24 (Conv2D)          (None, 10, 10, 16)        2416      \n",
      "                                                                 \n",
      " average_pooling2d_13 (Avera  (None, 5, 5, 16)         0         \n",
      " gePooling2D)                                                    \n",
      "                                                                 \n",
      " conv2d_25 (Conv2D)          (None, 1, 1, 120)         48120     \n",
      "                                                                 \n",
      " flatten_4 (Flatten)         (None, 120)               0         \n",
      "                                                                 \n",
      " dense_6 (Dense)             (None, 120)               14520     \n",
      "                                                                 \n",
      " dense_7 (Dense)             (None, 84)                10164     \n",
      "                                                                 \n",
      " dense_8 (Dense)             (None, 10)                850       \n",
      "                                                                 \n",
      "=================================================================\n",
      "Total params: 76,226\n",
      "Trainable params: 76,226\n",
      "Non-trainable params: 0\n",
      "_________________________________________________________________\n"
     ]
    }
   ],
   "source": [
    "models.summary()"
   ]
  },
  {
   "cell_type": "code",
   "execution_count": 49,
   "metadata": {},
   "outputs": [],
   "source": [
    "file_save = os.path.join(MODEL_PATH, \"LeNet-5.h5\")\n",
    "checkpoint_cb = keras.callbacks.ModelCheckpoint(file_save, \n",
    "                            save_best_only = True)\n",
    "early_stopping = keras.callbacks.EarlyStopping(patience = 5, \n",
    "                        restore_best_weights = True)"
   ]
  },
  {
   "cell_type": "code",
   "execution_count": 50,
   "metadata": {},
   "outputs": [
    {
     "data": {
      "text/plain": [
       "TensorShape([48000, 32, 32, 1])"
      ]
     },
     "execution_count": 50,
     "metadata": {},
     "output_type": "execute_result"
    }
   ],
   "source": [
    "X_train_model.shape"
   ]
  },
  {
   "cell_type": "code",
   "execution_count": 52,
   "metadata": {},
   "outputs": [
    {
     "name": "stdout",
     "output_type": "stream",
     "text": [
      "Epoch 1/20\n",
      "375/375 [==============================] - 18s 21ms/step - loss: 0.3653 - accuracy: 0.8911 - val_loss: 0.1684 - val_accuracy: 0.9518\n",
      "Epoch 2/20\n",
      "375/375 [==============================] - 8s 21ms/step - loss: 0.1389 - accuracy: 0.9580 - val_loss: 0.1213 - val_accuracy: 0.9643\n",
      "Epoch 3/20\n",
      "375/375 [==============================] - 3s 8ms/step - loss: 0.0952 - accuracy: 0.9716 - val_loss: 0.0949 - val_accuracy: 0.9721\n",
      "Epoch 4/20\n",
      "375/375 [==============================] - 3s 8ms/step - loss: 0.0716 - accuracy: 0.9780 - val_loss: 0.0842 - val_accuracy: 0.9743\n",
      "Epoch 5/20\n",
      "375/375 [==============================] - 3s 9ms/step - loss: 0.0563 - accuracy: 0.9824 - val_loss: 0.0779 - val_accuracy: 0.9762\n",
      "Epoch 6/20\n",
      "375/375 [==============================] - 3s 9ms/step - loss: 0.0463 - accuracy: 0.9858 - val_loss: 0.0701 - val_accuracy: 0.9793\n",
      "Epoch 7/20\n",
      "375/375 [==============================] - 5s 14ms/step - loss: 0.0384 - accuracy: 0.9883 - val_loss: 0.0724 - val_accuracy: 0.9773\n",
      "Epoch 8/20\n",
      "375/375 [==============================] - 4s 12ms/step - loss: 0.0318 - accuracy: 0.9899 - val_loss: 0.0677 - val_accuracy: 0.9809\n",
      "Epoch 9/20\n",
      "375/375 [==============================] - 5s 13ms/step - loss: 0.0269 - accuracy: 0.9913 - val_loss: 0.0607 - val_accuracy: 0.9805\n",
      "Epoch 10/20\n",
      "375/375 [==============================] - 7s 17ms/step - loss: 0.0207 - accuracy: 0.9935 - val_loss: 0.0721 - val_accuracy: 0.9793\n",
      "Epoch 11/20\n",
      "375/375 [==============================] - 5s 13ms/step - loss: 0.0206 - accuracy: 0.9933 - val_loss: 0.0751 - val_accuracy: 0.9780\n",
      "Epoch 12/20\n",
      "375/375 [==============================] - 5s 13ms/step - loss: 0.0163 - accuracy: 0.9949 - val_loss: 0.0614 - val_accuracy: 0.9816\n",
      "Epoch 13/20\n",
      "375/375 [==============================] - 5s 13ms/step - loss: 0.0114 - accuracy: 0.9966 - val_loss: 0.0738 - val_accuracy: 0.9793\n",
      "Epoch 14/20\n",
      "375/375 [==============================] - 5s 13ms/step - loss: 0.0129 - accuracy: 0.9960 - val_loss: 0.0769 - val_accuracy: 0.9790\n"
     ]
    }
   ],
   "source": [
    "models.compile(loss = \"sparse_categorical_crossentropy\", \n",
    "                optimizer = keras.optimizers.Adam(),\n",
    "                metrics = [\"accuracy\"])\n",
    "\n",
    "history = models.fit(X_train_model, Y_train_model, \n",
    "                    batch_size = 128, epochs = 20,\n",
    "                    validation_data = (X_valid_model, Y_valid_model),\n",
    "                    callbacks =  [checkpoint_cb, early_stopping])"
   ]
  },
  {
   "cell_type": "code",
   "execution_count": 54,
   "metadata": {},
   "outputs": [
    {
     "name": "stdout",
     "output_type": "stream",
     "text": [
      "313/313 [==============================] - 1s 4ms/step - loss: 0.0512 - accuracy: 0.9840\n"
     ]
    },
    {
     "data": {
      "text/plain": [
       "[0.051222141832113266, 0.984000027179718]"
      ]
     },
     "execution_count": 54,
     "metadata": {},
     "output_type": "execute_result"
    }
   ],
   "source": [
    "models.evaluate(X_test_model, Y_test)"
   ]
  },
  {
   "cell_type": "code",
   "execution_count": 55,
   "metadata": {},
   "outputs": [
    {
     "data": {
      "text/plain": [
       "TensorShape([10000, 32, 32, 1])"
      ]
     },
     "execution_count": 55,
     "metadata": {},
     "output_type": "execute_result"
    }
   ],
   "source": [
    "X_test_model.shape"
   ]
  },
  {
   "cell_type": "code",
   "execution_count": 77,
   "metadata": {},
   "outputs": [],
   "source": [
    "def predict_max(li):\n",
    "    max_num = li[0]\n",
    "    max_index = 0\n",
    "\n",
    "    for i in range (1, len(li)):\n",
    "        if (max_num < li[i]):\n",
    "            max_num = li[i]\n",
    "            max_index = i\n",
    "    \n",
    "    return max_index, max_num\n"
   ]
  },
  {
   "cell_type": "code",
   "execution_count": 78,
   "metadata": {},
   "outputs": [
    {
     "name": "stdout",
     "output_type": "stream",
     "text": [
      "1/1 [==============================] - 0s 25ms/step\n"
     ]
    }
   ],
   "source": [
    "K = models.predict(X_test_model[:25])"
   ]
  },
  {
   "cell_type": "code",
   "execution_count": 85,
   "metadata": {},
   "outputs": [
    {
     "name": "stdout",
     "output_type": "stream",
     "text": [
      "[7, 2, 1, 0, 4, 1, 4, 9, 5, 9, 0, 6, 9, 0, 1, 5, 9, 7, 3, 4, 9, 6, 6, 5, 4]\n",
      "[99.97, 99.9, 100.0, 99.98, 99.99, 99.96, 99.54, 99.87, 61.32, 99.97, 99.99, 99.99, 99.99, 99.99, 99.99, 99.95, 99.96, 99.96, 92.24, 100.0, 98.09, 99.99, 99.99, 99.99, 99.99]\n"
     ]
    }
   ],
   "source": [
    "result = []\n",
    "percentage = []\n",
    "\n",
    "for i in range (25):\n",
    "    result.append(predict_max(K[i])[0])\n",
    "    percentage.append(round(predict_max(K[i])[1] * 100, 2))\n",
    "\n",
    "print(result)\n",
    "print(percentage)"
   ]
  },
  {
   "cell_type": "code",
   "execution_count": 87,
   "metadata": {},
   "outputs": [
    {
     "data": {
      "image/png": "[encoded data removed]",
      "text/plain": [
       "<Figure size 1080x1080 with 25 Axes>"
      ]
     },
     "metadata": {
      "needs_background": "light"
     },
     "output_type": "display_data"
    }
   ],
   "source": [
    "plt.figure(figsize = (15, 15))\n",
    "\n",
    "for i in range (25):\n",
    "    plt.subplot(5, 5, i + 1)\n",
    "    plt.imshow(X_test_model[i, :, :, :], cmap = \"gray\", interpolation = \"nearest\")\n",
    "    plt.title(f\"{result[i]} / Percent: {percentage[i]}%\", fontsize = 15)\n",
    "    plt.axis(\"off\")\n",
    "\n",
    "plt.subplots_adjust(wspace = 1, hspace = 0.5)\n",
    "plt.show()"
   ]
  }
 ],
 "metadata": {
  "kernelspec": {
   "display_name": "Python 3.10.4 64-bit",
   "language": "python",
   "name": "python3"
  },
  "language_info": {
   "codemirror_mode": {
    "name": "ipython",
    "version": 3
   },
   "file_extension": ".py",
   "mimetype": "text/x-python",
   "name": "python",
   "nbconvert_exporter": "python",
   "pygments_lexer": "ipython3",
   "version": "3.10.4"
  },
  "orig_nbformat": 4,
  "vscode": {
   "interpreter": {
    "hash": "52634da84371cba311ea128a5ea7cdc41ff074b781779e754b270ff9f8153cee"
   }
  }
 },
 "nbformat": 4,
 "nbformat_minor": 2
}
